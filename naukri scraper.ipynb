{
 "cells": [
  {
   "cell_type": "markdown",
   "id": "0b5cc569-564d-41e5-8033-062a7844c34e",
   "metadata": {},
   "source": [
    "# Libraries and Requirements"
   ]
  },
  {
   "cell_type": "code",
   "execution_count": null,
   "id": "c6b24589-c242-47f6-b0ec-bf3057c56a11",
   "metadata": {},
   "outputs": [],
   "source": [
    "!pip install pandas selenium webdriver_manager --quiet --upgrade"
   ]
  },
  {
   "cell_type": "code",
   "execution_count": null,
   "id": "94f68bf0-d9e6-449f-a616-5193acee66f2",
   "metadata": {},
   "outputs": [],
   "source": [
    "# selenium\n",
    "from selenium import webdriver\n",
    "from selenium.webdriver.common.by import By\n",
    "from selenium.webdriver.chrome.service import Service\n",
    "from selenium.common.exceptions import NoSuchElementException, ElementClickInterceptedException, ElementNotInteractableException\n",
    "\n",
    "# webdriver\n",
    "from webdriver_manager.chrome import ChromeDriverManager\n",
    "\n",
    "# time\n",
    "from time import sleep\n",
    "from datetime import datetime\n",
    "\n",
    "# regex\n",
    "import re\n",
    "\n",
    "# dataframe manipulation\n",
    "import numpy as np\n",
    "import pandas as pd"
   ]
  },
  {
   "cell_type": "markdown",
   "id": "0598c6f3-157f-4711-91f0-9c4a5ea4fa20",
   "metadata": {},
   "source": [
    "# Scraping Data using Selenium"
   ]
  },
  {
   "cell_type": "markdown",
   "id": "1fc69356-c578-41ff-a10c-69339c1ad589",
   "metadata": {},
   "source": [
    "Naukri's URL..."
   ]
  },
  {
   "cell_type": "code",
   "execution_count": null,
   "id": "a85f8890-aaed-4354-823c-ab7b1e5a9255",
   "metadata": {},
   "outputs": [],
   "source": [
    "URL = 'https://www.naukri.com/'"
   ]
  },
  {
   "cell_type": "markdown",
   "id": "272869b1-371d-4ef7-a29a-c6ca79657f84",
   "metadata": {},
   "source": [
    "Installing the webdriver and opening the URL in test browser..."
   ]
  },
  {
   "cell_type": "code",
   "execution_count": null,
   "id": "c3d1da1f-5aa7-43ab-887b-0d63d06a83a3",
   "metadata": {},
   "outputs": [],
   "source": [
    "chrome_options = webdriver.ChromeOptions()\n",
    "driver = webdriver.Chrome(service = Service(ChromeDriverManager().install()), options = chrome_options)\n",
    "driver.get(URL)\n",
    "sleep(1)"
   ]
  },
  {
   "cell_type": "markdown",
   "id": "a236112f-2b3d-4be9-9121-808b1f233220",
   "metadata": {},
   "source": [
    "Click on login button to enter the details..."
   ]
  },
  {
   "cell_type": "code",
   "execution_count": null,
   "id": "5397c84d-0f28-4434-8598-e6688e67c338",
   "metadata": {},
   "outputs": [],
   "source": [
    "driver.find_element(By.XPATH, '//*[@id=\"login_Layer\"]').click()\n",
    "sleep(1)"
   ]
  },
  {
   "cell_type": "markdown",
   "id": "ca7c8859-a834-44f1-ace1-453e14a642d4",
   "metadata": {},
   "source": [
    "Identify the placeholders for credentials..."
   ]
  },
  {
   "cell_type": "code",
   "execution_count": null,
   "id": "fc94bb0a-97a8-4b1e-9751-4941827f67b4",
   "metadata": {},
   "outputs": [],
   "source": [
    "username = driver.find_element(By.CSS_SELECTOR, 'input[placeholder=\"Enter your active Email ID / Username\"]')\n",
    "password = driver.find_element(By.CSS_SELECTOR, 'input[placeholder=\"Enter your password\"]')"
   ]
  },
  {
   "cell_type": "code",
   "execution_count": null,
   "id": "da532892-3d08-4023-9645-8f67efdac363",
   "metadata": {},
   "outputs": [],
   "source": [
    "username.clear()\n",
    "password.clear()"
   ]
  },
  {
   "cell_type": "markdown",
   "id": "50ad2afc-50d3-4f52-bb96-7e2a6ea167b2",
   "metadata": {},
   "source": [
    "Putting the credentials..."
   ]
  },
  {
   "cell_type": "code",
   "execution_count": null,
   "id": "3f01de30-a183-4f3e-8056-e360c9665fc4",
   "metadata": {},
   "outputs": [],
   "source": [
    "username.send_keys('aka.ssh.testing@gmail.com')\n",
    "password.send_keys('(Akash#1999)')"
   ]
  },
  {
   "cell_type": "markdown",
   "id": "e897f212-5d39-4886-86bc-0d200ba6d74e",
   "metadata": {},
   "source": [
    "Clicking the `Login` button..."
   ]
  },
  {
   "cell_type": "code",
   "execution_count": null,
   "id": "62bc2ec7-7222-4a34-94f8-f3f0bed45a62",
   "metadata": {},
   "outputs": [],
   "source": [
    "driver.find_element(By.CSS_SELECTOR, 'button[type=\"submit\"]').click()\n",
    "sleep(2)"
   ]
  },
  {
   "cell_type": "markdown",
   "id": "9856f9ea-a590-402a-bac6-7d6240dc67c7",
   "metadata": {},
   "source": [
    "Click on `Search jobs here` search bar..."
   ]
  },
  {
   "cell_type": "code",
   "execution_count": null,
   "id": "575d06ee-acfa-4afb-ae33-60a0306bfa5b",
   "metadata": {},
   "outputs": [],
   "source": [
    "driver.find_element(By.CSS_SELECTOR, 'button[class=\"nI-gNb-sb__icon-wrapper\"]').click()"
   ]
  },
  {
   "cell_type": "markdown",
   "id": "0ecce4ce-5b8b-499d-881e-a3f21a32fe44",
   "metadata": {},
   "source": [
    "Identify place holder..."
   ]
  },
  {
   "cell_type": "code",
   "execution_count": null,
   "id": "bd188ef7-eac7-4a0b-bd94-9599caaa1b3e",
   "metadata": {},
   "outputs": [],
   "source": [
    "placeholder = driver.find_element(By.CSS_SELECTOR, 'input[placeholder=\"Enter keyword / designation / companies\"]')"
   ]
  },
  {
   "cell_type": "markdown",
   "id": "46204618-6c2a-4ab8-972b-dbba457db992",
   "metadata": {},
   "source": [
    "Take input from user..."
   ]
  },
  {
   "cell_type": "code",
   "execution_count": null,
   "id": "bf70ea62-1bf2-4f7a-9f73-c1e42cdb0816",
   "metadata": {},
   "outputs": [],
   "source": [
    "user_inputs = input('Enter Keyword / Designation / Companies:')"
   ]
  },
  {
   "cell_type": "markdown",
   "id": "5e8b8efd-318d-4e6f-b0b4-8d8cb0b8b894",
   "metadata": {},
   "source": [
    "Assigning user inputs to the place holder..."
   ]
  },
  {
   "cell_type": "code",
   "execution_count": null,
   "id": "dfae505c-bd44-409d-887f-03e507bd53ff",
   "metadata": {},
   "outputs": [],
   "source": [
    "placeholder.send_keys(user_inputs)\n",
    "sleep(2)"
   ]
  },
  {
   "cell_type": "markdown",
   "id": "68db964c-cde8-4c01-9b1e-7b29683c74ce",
   "metadata": {},
   "source": [
    "Clicking the search button..."
   ]
  },
  {
   "cell_type": "code",
   "execution_count": null,
   "id": "2c290a4f-3f2c-47d9-80a9-6e1b92846688",
   "metadata": {},
   "outputs": [],
   "source": [
    "driver.find_element(By.CSS_SELECTOR, 'button[class=\"nI-gNb-sb__icon-wrapper\"]').click()\n",
    "sleep(3)"
   ]
  },
  {
   "cell_type": "markdown",
   "id": "77ecd4b3-d3fb-488c-874f-6b3cfa53f344",
   "metadata": {},
   "source": [
    "Scraping jobs from first N pages..."
   ]
  },
  {
   "cell_type": "code",
   "execution_count": null,
   "id": "2eee43d1-38d9-46dc-8834-a7ea5e917d95",
   "metadata": {},
   "outputs": [],
   "source": [
    "jobs = []\n",
    "N = 3\n",
    "\n",
    "for _ in range(N):\n",
    "    scraped_jobs = []\n",
    "    scraped_jobs.extend(driver.find_elements(By.CLASS_NAME, 'srp-jobtuple-wrapper'))\n",
    "    sleep(1)\n",
    "    for index in range(len(scraped_jobs)):\n",
    "        content = scraped_jobs[index].text\n",
    "        jobs.append(content)\n",
    "    \n",
    "    driver.find_element(By.XPATH, '//*[@id=\"lastCompMark\"]/a[2]').click()\n",
    "    sleep(3)"
   ]
  },
  {
   "cell_type": "markdown",
   "id": "9256db47-5c5b-47be-83d1-1295f5876396",
   "metadata": {},
   "source": [
    "Parsing the required details..."
   ]
  },
  {
   "cell_type": "code",
   "execution_count": null,
   "id": "2eb89222-51e9-4e4f-89e9-b379e5fd19d8",
   "metadata": {},
   "outputs": [],
   "source": [
    "# parsing the required data\n",
    "designation_name = []\n",
    "company_name = []\n",
    "experience = []\n",
    "salary = []\n",
    "location = []\n",
    "\n",
    "for job in jobs:\n",
    "    content = job.split('\\n')\n",
    "    # appending parsed data into unique lists\n",
    "    designation_name.append(content[0])\n",
    "    company_name.append(content[1])\n",
    "\n",
    "    # using regex patterns to parse experience and salary\n",
    "    experience_pattern = re.compile(r'(\\d+)-(\\d+) Yrs')\n",
    "    experience_pattern_match = experience_pattern.findall(job)\n",
    "    experience.append(experience_pattern_match[0] if experience_pattern_match else '')\n",
    "\n",
    "    salary_pattern = re.compile(r'([\\d.]+)-([\\d.]+) Lac|Lacs|LPA|Not disclosed')\n",
    "    salary_pattern_match = salary_pattern.findall(job)\n",
    "    salary.append(salary_pattern_match[0] if salary_pattern_match else '')\n",
    "\n",
    "    # Find the index of \"Salary\" in the content list\n",
    "    salary_indices = [i for i, line in enumerate(content) if re.search(salary_pattern, line)]\n",
    "    \n",
    "    # If \"Salary\" is found, get the location from the next line\n",
    "    if salary_indices:\n",
    "        salary_index = salary_indices[0]\n",
    "        if salary_index < len(content) - 1:\n",
    "            location.append(content[salary_index + 1])\n",
    "        else:\n",
    "            location.append('')  # Handle the case where location is not available\n",
    "    else:\n",
    "        location.append('')  # Handle the case where salary is not available\n",
    "\n",
    "    # Print the extracted information\n",
    "    print('____________________________________________________________')\n",
    "    print(f'Designation: {designation_name[-1]}')\n",
    "    print(f'Company: {company_name[-1]}')\n",
    "    print(f'Experience: {experience[-1]}')\n",
    "    print(f'Salary: {salary[-1]}')\n",
    "    print(f'Location: {location[-1]}')\n",
    "    print('____________________________________________________________\\n')"
   ]
  },
  {
   "cell_type": "markdown",
   "id": "dab942dc-09e1-4d77-a56a-44a0d5d97ca9",
   "metadata": {},
   "source": [
    "# Converting the entire process into a function"
   ]
  },
  {
   "cell_type": "code",
   "execution_count": null,
   "id": "5ee1d6f7-cfea-4e8a-aa43-4b0eefbfcd52",
   "metadata": {},
   "outputs": [],
   "source": [
    "def scrape_naukri(designation, input_username, input_password,N= 10):\n",
    "    # helps in logging in the website\n",
    "    URL = 'https://www.naukri.com/'\n",
    "    chrome_options = webdriver.ChromeOptions()\n",
    "    driver = webdriver.Chrome(service = Service(ChromeDriverManager().install()), options = chrome_options)\n",
    "    driver.get(URL)\n",
    "    sleep(1)\n",
    "    driver.find_element(By.XPATH, '//*[@id=\"login_Layer\"]').click()\n",
    "    sleep(1)\n",
    "    username = driver.find_element(By.CSS_SELECTOR, 'input[placeholder=\"Enter your active Email ID / Username\"]')\n",
    "    password = driver.find_element(By.CSS_SELECTOR, 'input[placeholder=\"Enter your password\"]')\n",
    "    username.clear()\n",
    "    password.clear()\n",
    "    username.send_keys(input_username)\n",
    "    password.send_keys(input_password)\n",
    "    driver.find_element(By.CSS_SELECTOR, 'button[type=\"submit\"]').click()\n",
    "    sleep(5)\n",
    "\n",
    "    # searching the input designation\n",
    "    driver.find_element(By.CSS_SELECTOR, 'button[class=\"nI-gNb-sb__icon-wrapper\"]').click()\n",
    "    placeholder = driver.find_element(By.CSS_SELECTOR, 'input[placeholder=\"Enter keyword / designation / companies\"]')\n",
    "    placeholder.send_keys(designation)\n",
    "    driver.find_element(By.CSS_SELECTOR, 'button[class=\"nI-gNb-sb__icon-wrapper\"]').click()\n",
    "    sleep(3)\n",
    "\n",
    "    # listing the jobs after scraping\n",
    "    jobs = []\n",
    "    for _ in range(N):\n",
    "        scraped_jobs = []\n",
    "        scraped_jobs.extend(driver.find_elements(By.CLASS_NAME, 'srp-jobtuple-wrapper'))\n",
    "        sleep(1)\n",
    "        for index in range(len(scraped_jobs)):\n",
    "            content = scraped_jobs[index].text\n",
    "            jobs.append(content)\n",
    "        driver.find_element(By.XPATH, '//*[@id=\"lastCompMark\"]/a[2]').click()\n",
    "        sleep(3)\n",
    "\n",
    "    # parsing the required data\n",
    "    designation_name = []\n",
    "    company_name = []\n",
    "    experience = []\n",
    "    salary = []\n",
    "    location = []\n",
    "\n",
    "    for job in jobs:\n",
    "        content = job.split('\\n')\n",
    "\n",
    "        # appending parsed data into unique lists\n",
    "        designation_name.append(content[0])\n",
    "        company_name.append(content[1])\n",
    "\n",
    "        # using regex patterns to parse experience and salary\n",
    "        experience_pattern = re.compile(r'(\\d+)-(\\d+) Yrs')\n",
    "        experience_pattern_match = experience_pattern.findall(job)\n",
    "\n",
    "        # check if the pattern matched before accessing the elements\n",
    "        if experience_pattern_match:\n",
    "            experience.append(experience_pattern_match[0])\n",
    "        else:\n",
    "            experience.append(('',''))\n",
    "\n",
    "        salary_pattern = re.compile(r'([\\d.]+)-([\\d.]+) Lac|Lacs|LPA|Not disclosed')\n",
    "        salary_pattern_match = salary_pattern.findall(job)\n",
    "\n",
    "        # check if the pattern matched before accessing the elements\n",
    "        if salary_pattern_match:\n",
    "            salary.append(salary_pattern_match[0])\n",
    "        else:\n",
    "            salary.append(('',''))\n",
    "\n",
    "        # fetching salary index location\n",
    "        salary_indices = [index for index, value in enumerate(content) if re.search(salary_pattern, value)]\n",
    "        if salary_indices:\n",
    "            salary_index = salary_indices[0]\n",
    "            if salary_index < len(content) - 1:\n",
    "                location.append(content[salary_index + 1])\n",
    "            else:\n",
    "                location.append(('',''))\n",
    "        else:\n",
    "            location.append(('',''))\n",
    "    \n",
    "    # making a data dictionary\n",
    "    data_dictionary =  {'Designation Name': designation_name,\n",
    "                        'Company Name': company_name,\n",
    "                        'Experience': experience,\n",
    "                        'Salary': salary,\n",
    "                        'Location': location}\n",
    "\n",
    "    # making dataframe using the data dictionary\n",
    "    dataframe = pd.DataFrame(data_dictionary)\n",
    "    \n",
    "    return dataframe"
   ]
  },
  {
   "cell_type": "markdown",
   "id": "258153d9-af75-4f46-bb9e-805b14ae74eb",
   "metadata": {},
   "source": [
    "Creating `DataFrame` for data scientist role..."
   ]
  },
  {
   "cell_type": "code",
   "execution_count": null,
   "id": "2c6fee00-ce19-4ecf-87c8-2531ef6a6572",
   "metadata": {},
   "outputs": [],
   "source": [
    "DataFrame = scrape_naukri('Data Scientist', 'dummy_username', 'dummy_password')"
   ]
  },
  {
   "cell_type": "code",
   "execution_count": null,
   "id": "9b7bad37-7117-431e-a1a4-5e60d043d109",
   "metadata": {},
   "outputs": [],
   "source": [
    "DataFrame"
   ]
  },
  {
   "cell_type": "code",
   "execution_count": null,
   "id": "566d780a-1554-421e-ad8e-f68a599c15ef",
   "metadata": {},
   "outputs": [],
   "source": [
    "file_name= f\"naukri_{datetime.now().strftime('%Y-%m-%d')}.csv\"\n",
    "\n",
    "DataFrame.to_csv(file_name)"
   ]
  }
 ],
 "metadata": {
  "kernelspec": {
   "display_name": "Python 3 (ipykernel)",
   "language": "python",
   "name": "python3"
  },
  "language_info": {
   "codemirror_mode": {
    "name": "ipython",
    "version": 3
   },
   "file_extension": ".py",
   "mimetype": "text/x-python",
   "name": "python",
   "nbconvert_exporter": "python",
   "pygments_lexer": "ipython3",
   "version": "3.10.11"
  }
 },
 "nbformat": 4,
 "nbformat_minor": 5
}
